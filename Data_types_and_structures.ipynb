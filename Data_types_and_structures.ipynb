{
  "nbformat": 4,
  "nbformat_minor": 0,
  "metadata": {
    "colab": {
      "provenance": []
    },
    "kernelspec": {
      "name": "python3",
      "display_name": "Python 3"
    },
    "language_info": {
      "name": "python"
    }
  },
  "cells": [
    {
      "cell_type": "code",
      "execution_count": null,
      "metadata": {
        "id": "BrkT8ZWReqIe"
      },
      "outputs": [],
      "source": []
    },
    {
      "cell_type": "markdown",
      "source": [
        "1) What are data structures, and why are they important?\n",
        "- Data structures are a way of organizing and storing data so that it can be accessed and manipulated effectively. Data structures are imortant because: -\n",
        "\n",
        "- They help manage large amounts of data in an organized way (e.g., lists for sequences, dictionaries for key-value pairs).\n",
        "- Improved Performance: Choosing the right data structure can make your code faster and use less memory.\n",
        "- Simplified Code: Built-in structures like sets, tuples, and dictionaries simplify complex tasks such as deduplication, lookups, or mapping relationships.\n",
        "- Problem Solving: Many algorithms rely on specific data structures (like stacks, queues, or trees) to work correctly.\n",
        "- Readable and Maintainable Code: Proper structure makes your code easier to understand and maintain.\n",
        "\n",
        "2)  Explain the difference between mutable and immutable data types with examples.\n",
        "- Mutable data types means the elements of those data types can be modified. Lists, Sets, Dictionaries are mutable data types\n",
        "\n",
        "- Immutable data types means the elements of those data types cannot be modified. Tuple, String are immutable data types.\n",
        "\n",
        "3) What are the main differences between lists and tuples in Python?\n",
        "- Lists are mutable i.e. item assignment can be done and lists can be modified.\n",
        "\n",
        "- Tuples are immutable i.e. item assignment is not possible and they cannot be modified.\n",
        "\n",
        "4) Describe how dictionaries store data.\n",
        "- Dictionaries store data in the form of pairs (keys and values)\n",
        "\n",
        "- In dictionary, data is stored in similar way as list but the index here is referred to the keys present in the dictionary.\n",
        "\n",
        "5) Why might you use a set instead of a list in Python?\n",
        "- Because set removes the duplicate elements if present any while list returns the elements as it is provided by the user.\n",
        "\n",
        "- Sets allows operations like union, intersection, difference and symmetric difference making our code easy while list donot provide such operations directly.\n",
        "\n",
        "6) What is a string in Python, and how is it different from a list?\n",
        "- String in python is an immutable data structure whereas lists are mutable allowing modification of elements in easier manner.\n",
        "\n",
        "- String is a sequence of characters while list is a sequence of hetrogenous data types (string, int, float, boolean).\n",
        "\n",
        "- String is defined using quotes (single, double or triple) while list is defined using suare brackets.\n",
        "\n",
        "7) How do tuples ensure data integrity in Python?\n",
        "- Since tuples are immutable i.e elements cannot be modified(add, remove or change) once created. So data integrity is maintained since it does not allow the values to change.\n",
        "\n",
        "8) What is a hash table, and how does it relate to dictionaries in Python?\n",
        "- A hash table is a data structure that stores key-value pairs and uses a hash function to compute an index into an array of buckets from which the desired value can be found.\n",
        "\n",
        "- A dictionary in Python is a direct implementation of a hash table.A hash table stores data as key-value pairs, just like a Python dictionary.\n",
        "\n",
        "9) Can lists contain different data types in Python?\n",
        "- Yes, lists can contains variables of different datatypes in python.\n",
        "\n",
        "10) Explain why strings are immutable in Python?\n",
        "- Strings are immutable, meaning once you create a string, you cannot change its contents. If we try to modify it, Python creates a new string instead\n",
        "\n",
        "11) What advantages do dictionaries offer over lists for certain tasks?\n",
        "- Dictionaries eliminates the duplicates while list does not, which gives us advantage while clean data handling.\n",
        "- Also since dictionaries are stored as key-value pairs, they allow easy lookup by keys when handling big volumes of data.\n",
        "- Dictionaries are unordered, so their values can be called just by keys, making it more flexible than lists.\n",
        "\n",
        "12) Describe a scenario where using a tuple would be preferable over a list?\n",
        "- Tupleis recommenede where we donot want the datas to change.\n",
        "For example, in aadhar card, aadhar card number is fixedfor every individual. So this can be contained in a tuple since we do not want the aadhar card numbers to change for an individual.\n",
        "\n",
        "13) How do sets handle duplicate values in Python?\n",
        "- Sets eliminates the duplicate values in python if any found.\n",
        "\n",
        "14) How does the “in” keyword work differently for lists and dictionaries?\n",
        "- in checks whether a value exists among the elements of the list\n",
        "\n",
        "- in checks whether a key exists in the dictionary, not a value.\n",
        "\n",
        "15) Can you modify the elements of a tuple? Explain why or why not?\n",
        "- No, we cannot modify the elements of a tuple because they are immutable i.e. item assignment is not possible in tuple.\n",
        "\n",
        "16) What is a nested dictionary, and give an example of its use case?\n",
        "- A nested dictionary is a dictionary inside another dictionary. It allows you to store complex data structures in a clean, organized way like representing relationships or grouping related information together.\n",
        "\n",
        "17) Describe the time complexity of accessing elements in a dictionary?\n",
        "- Accessing elements in a dictionary is very fast.\n",
        "- Python dictionaries use a hash table internally, which allows direct indexing to the memory location of the value using the key's hash.\n",
        "\n",
        "18) In what situations are lists preferred over dictionaries?\n",
        "- Lists are preferred over dictionaries in several specific situations, especially when order of the values, position, or simple sequences matter more than key-based access.\n",
        "\n",
        "19) Why are dictionaries considered unordered, and how does that affect data retrieval?\n",
        "- Dictionaries are considered unordered becausenthe order in which you inserted keys is not preserved. If we print a dictionary or iterate over it, keys could appear in any random order.\n",
        "- Data retrieval is not much affected, still we can access the values of dictionaries by keys instead of indexing.\n",
        "\n",
        "20) Explain the difference between a list and a dictionary in terms of data retrieval.\n",
        "- List elements can be accessed by position/index while dictionary elements can be accessed by keys."
      ],
      "metadata": {
        "id": "3_JDBvGtesiL"
      }
    },
    {
      "cell_type": "code",
      "source": [
        "# 1) Write a code to create a string with your name and print it?\n",
        "a=\"ritika\"\n",
        "print(a)\n",
        "print(type(a))"
      ],
      "metadata": {
        "colab": {
          "base_uri": "https://localhost:8080/"
        },
        "id": "W0JLBnSvz9-c",
        "outputId": "0afe7300-3c2f-4a36-87c4-c4d615530fa4"
      },
      "execution_count": null,
      "outputs": [
        {
          "output_type": "stream",
          "name": "stdout",
          "text": [
            "ritika\n",
            "<class 'str'>\n"
          ]
        }
      ]
    },
    {
      "cell_type": "code",
      "source": [
        "# 2) Write a code to find the length of the string \"Hello World\".\n",
        "print(len(\"Hello World\"))"
      ],
      "metadata": {
        "colab": {
          "base_uri": "https://localhost:8080/"
        },
        "id": "1cF_7_G_0ZRO",
        "outputId": "9a533d89-2630-45cc-da43-b4d4310c6be7"
      },
      "execution_count": null,
      "outputs": [
        {
          "output_type": "stream",
          "name": "stdout",
          "text": [
            "11\n"
          ]
        }
      ]
    },
    {
      "cell_type": "code",
      "source": [
        "# 3) Write a code to slice the first 3 characters from the string \"Python Programming\".\n",
        "str=\"Python Programming\"\n",
        "print(str[3:])"
      ],
      "metadata": {
        "id": "uweJG4sL0nz8",
        "colab": {
          "base_uri": "https://localhost:8080/"
        },
        "outputId": "4c54ad96-ebcc-4b59-e3e9-7f79a9a65b43"
      },
      "execution_count": null,
      "outputs": [
        {
          "output_type": "stream",
          "name": "stdout",
          "text": [
            "hon Programming\n"
          ]
        }
      ]
    },
    {
      "cell_type": "code",
      "source": [
        "# 4) Write a code to convert the string \"hello\" to uppercase.\n",
        "str=\"hello\"\n",
        "print(str.upper())"
      ],
      "metadata": {
        "id": "O-IqQjgS05Zj",
        "colab": {
          "base_uri": "https://localhost:8080/"
        },
        "outputId": "8a6b43b4-4012-4388-917d-05a95f85586c"
      },
      "execution_count": null,
      "outputs": [
        {
          "output_type": "stream",
          "name": "stdout",
          "text": [
            "HELLO\n"
          ]
        }
      ]
    },
    {
      "cell_type": "code",
      "source": [
        "# 5) Write a code to replace the word \"apple\" with \"orange\" in the string \"I like apple\".\n",
        "str=\"I like apple\"\n",
        "str1=str.replace(\"apple\",\"orange\")\n",
        "print(str1)"
      ],
      "metadata": {
        "id": "ViGPVh2Y1mSe",
        "colab": {
          "base_uri": "https://localhost:8080/"
        },
        "outputId": "546d81fc-3721-476b-c5ba-0ab1cb5577f1"
      },
      "execution_count": null,
      "outputs": [
        {
          "output_type": "stream",
          "name": "stdout",
          "text": [
            "I like orange\n"
          ]
        }
      ]
    },
    {
      "cell_type": "code",
      "source": [
        "# 6) Write a code to create a list with numbers 1 to 5 and print it.\n",
        "num = list(range(1, 6))\n",
        "print(num)"
      ],
      "metadata": {
        "id": "tkQLjrkk1yhU",
        "colab": {
          "base_uri": "https://localhost:8080/"
        },
        "outputId": "9ebdd9cc-1160-4d99-eab7-c6dd3f9676fc"
      },
      "execution_count": null,
      "outputs": [
        {
          "output_type": "stream",
          "name": "stdout",
          "text": [
            "[1, 2, 3, 4, 5]\n"
          ]
        }
      ]
    },
    {
      "cell_type": "code",
      "source": [
        "# 7) Write a code to append the number 10 to the list [1, 2, 3, 4].\n",
        "list=[1,2,3,4]\n",
        "list.append(10)\n",
        "print(list)"
      ],
      "metadata": {
        "colab": {
          "base_uri": "https://localhost:8080/"
        },
        "id": "i4JHem193cwl",
        "outputId": "25d1e843-0250-4e68-a1a4-5cd5a5c1cf62"
      },
      "execution_count": null,
      "outputs": [
        {
          "output_type": "stream",
          "name": "stdout",
          "text": [
            "[1, 2, 3, 4, 10]\n"
          ]
        }
      ]
    },
    {
      "cell_type": "code",
      "source": [
        "# 8) Write a code to remove the number 3 from the list [1, 2, 3, 4, 5].\n",
        "list=[1,2,3,4,5]\n",
        "list.pop(2)\n",
        "print(list)"
      ],
      "metadata": {
        "colab": {
          "base_uri": "https://localhost:8080/"
        },
        "id": "VJhNEEyW7f2K",
        "outputId": "79b4515d-aa68-4834-84af-ed1abff1cdbf"
      },
      "execution_count": null,
      "outputs": [
        {
          "output_type": "stream",
          "name": "stdout",
          "text": [
            "[1, 2, 4, 5]\n"
          ]
        }
      ]
    },
    {
      "cell_type": "code",
      "source": [
        "# 9) Write a code to access the second element in the list ['a', 'b', 'c', 'd'].\n",
        "list=['a','b','c','d']\n",
        "print(list[1])\n"
      ],
      "metadata": {
        "colab": {
          "base_uri": "https://localhost:8080/"
        },
        "id": "EWVSldvY7vvI",
        "outputId": "a11fa6d0-b36e-462e-a81b-5834bb1c87c3"
      },
      "execution_count": null,
      "outputs": [
        {
          "output_type": "stream",
          "name": "stdout",
          "text": [
            "b\n"
          ]
        }
      ]
    },
    {
      "cell_type": "code",
      "source": [
        "# 10) Write a code to reverse the list [10, 20, 30, 40, 50].\n",
        "list=[10,20,30,40,50]\n",
        "print(list[::-1])"
      ],
      "metadata": {
        "colab": {
          "base_uri": "https://localhost:8080/"
        },
        "id": "Hb-i7ybA8Jx4",
        "outputId": "2db8e815-0e45-46f8-8d25-541bf67e757d"
      },
      "execution_count": null,
      "outputs": [
        {
          "output_type": "stream",
          "name": "stdout",
          "text": [
            "[50, 40, 30, 20, 10]\n"
          ]
        }
      ]
    },
    {
      "cell_type": "code",
      "source": [
        "# 11) Write a code to create a tuple with the elements 100, 200, 300 and print it.\n",
        "tuple=(100,200,300)\n",
        "print(tuple)\n",
        "print(type(tuple))"
      ],
      "metadata": {
        "colab": {
          "base_uri": "https://localhost:8080/"
        },
        "id": "ls9GAXqf8edf",
        "outputId": "4a2c25f2-748d-41a8-b98d-d82575e42c40"
      },
      "execution_count": null,
      "outputs": [
        {
          "output_type": "stream",
          "name": "stdout",
          "text": [
            "(100, 200, 300)\n",
            "<class 'tuple'>\n"
          ]
        }
      ]
    },
    {
      "cell_type": "code",
      "source": [
        "# 12) Write a code to access the second-to-last element of the tuple ('red', 'green', 'blue', 'yellow').\n",
        "tuple=('red', 'green', 'blue', 'yellow')\n",
        "print(tuple[1:])"
      ],
      "metadata": {
        "id": "eJb4Hbhe8u4N",
        "colab": {
          "base_uri": "https://localhost:8080/"
        },
        "outputId": "b22d32f4-5bb8-41d9-d71f-dd3a2b33c90c"
      },
      "execution_count": null,
      "outputs": [
        {
          "output_type": "stream",
          "name": "stdout",
          "text": [
            "('green', 'blue', 'yellow')\n"
          ]
        }
      ]
    },
    {
      "cell_type": "code",
      "source": [
        "# 13) Write a code to find the minimum number in the tuple (10, 20, 5, 15).\n",
        "tuple=(10,20,5,15)\n",
        "print(min(tuple))"
      ],
      "metadata": {
        "colab": {
          "base_uri": "https://localhost:8080/"
        },
        "id": "o55rwyBB81ki",
        "outputId": "5f050dc7-4404-4ab1-d9d7-2a036333804c"
      },
      "execution_count": null,
      "outputs": [
        {
          "output_type": "stream",
          "name": "stdout",
          "text": [
            "5\n"
          ]
        }
      ]
    },
    {
      "cell_type": "code",
      "source": [
        "# 14) Write a code to find the index of the element \"cat\" in the tuple ('dog', 'cat', 'rabbit').\n",
        "tuple=('dog','cat','rabbit')\n",
        "print(tuple.index(\"cat\"))"
      ],
      "metadata": {
        "colab": {
          "base_uri": "https://localhost:8080/"
        },
        "id": "LYhWbo-L9Fdq",
        "outputId": "b8a7ea32-ae56-4076-dd69-5014ccc6afe6"
      },
      "execution_count": null,
      "outputs": [
        {
          "output_type": "stream",
          "name": "stdout",
          "text": [
            "1\n"
          ]
        }
      ]
    },
    {
      "cell_type": "code",
      "source": [
        "# 15) Write a code to create a tuple containing three different fruits and check if \"kiwi\" is in it.\n",
        "tuple=(\"banana\",\"tomato\",\"kiwi\")\n",
        "if \"kiwi\" in tuple:\n",
        "  print(\"yes\")"
      ],
      "metadata": {
        "colab": {
          "base_uri": "https://localhost:8080/"
        },
        "id": "dRQCAy9y9uRQ",
        "outputId": "f96bd984-37b9-4b70-81bc-2427ab084df1"
      },
      "execution_count": null,
      "outputs": [
        {
          "output_type": "stream",
          "name": "stdout",
          "text": [
            "yes\n"
          ]
        }
      ]
    },
    {
      "cell_type": "code",
      "source": [
        "# 16) Write a code to create a set with the elements 'a', 'b', 'c' and print it.\n",
        "s={'a','b','c'}\n",
        "print(s)\n",
        "print(type(s))"
      ],
      "metadata": {
        "id": "cEZ0vMC1-Qha",
        "colab": {
          "base_uri": "https://localhost:8080/"
        },
        "outputId": "480d315d-3f24-478c-81ba-858978bb6477"
      },
      "execution_count": null,
      "outputs": [
        {
          "output_type": "stream",
          "name": "stdout",
          "text": [
            "{'a', 'b', 'c'}\n",
            "<class 'set'>\n"
          ]
        }
      ]
    },
    {
      "cell_type": "code",
      "source": [
        "# 17. Write a code to clear all elements from the set {1, 2, 3, 4, 5}.\n",
        "s={1,2,3,4,5}\n",
        "print(s.clear())"
      ],
      "metadata": {
        "colab": {
          "base_uri": "https://localhost:8080/"
        },
        "id": "BWh_cPnjxE3p",
        "outputId": "599d240b-356d-48cf-a6aa-07018f7a3ec9"
      },
      "execution_count": null,
      "outputs": [
        {
          "output_type": "stream",
          "name": "stdout",
          "text": [
            "None\n"
          ]
        }
      ]
    },
    {
      "cell_type": "code",
      "source": [
        "# 18. Write a code to remove the element 4 from the set {1, 2, 3, 4}.\n",
        "s={1,2,3,4}\n",
        "print(s.pop())"
      ],
      "metadata": {
        "colab": {
          "base_uri": "https://localhost:8080/"
        },
        "id": "8Ed5G9E-9_rN",
        "outputId": "1914b0a2-01fa-4954-ce82-1c1d5cb09ba1"
      },
      "execution_count": null,
      "outputs": [
        {
          "output_type": "stream",
          "name": "stdout",
          "text": [
            "1\n"
          ]
        }
      ]
    },
    {
      "cell_type": "code",
      "source": [
        " # 19. Write a code to find the union of two sets {1, 2, 3} and {3, 4, 5}.\n",
        " s={1,2,3}\n",
        " t={3,4,5}\n",
        " print(s | t)"
      ],
      "metadata": {
        "colab": {
          "base_uri": "https://localhost:8080/"
        },
        "id": "-o1CX2of-N2Q",
        "outputId": "d55bab01-2cec-43b9-ef5a-8ff79403c4be"
      },
      "execution_count": null,
      "outputs": [
        {
          "output_type": "stream",
          "name": "stdout",
          "text": [
            "{1, 2, 3, 4, 5}\n"
          ]
        }
      ]
    },
    {
      "cell_type": "code",
      "source": [
        "#  20. Write a code to find the intersection of two sets {1, 2, 3} and {2, 3, 4}.\n",
        "u={1,2,3}\n",
        "v={2,3,4}\n",
        "print(u & v)"
      ],
      "metadata": {
        "colab": {
          "base_uri": "https://localhost:8080/"
        },
        "id": "x80rdAfM-fQR",
        "outputId": "25e5cd87-f920-46e4-cc6a-626b8b4f4b68"
      },
      "execution_count": null,
      "outputs": [
        {
          "output_type": "stream",
          "name": "stdout",
          "text": [
            "{2, 3}\n"
          ]
        }
      ]
    },
    {
      "cell_type": "code",
      "source": [
        "# 21. Write a code to create a dictionary with the keys \"name\", \"age\", and \"city\", and print it.\n",
        "dict={'name':'ritika','age':25,'city':'Bhubaneshwar'}\n",
        "print(dict)"
      ],
      "metadata": {
        "colab": {
          "base_uri": "https://localhost:8080/"
        },
        "id": "_TdfnoO5_JtE",
        "outputId": "c522dcf6-b435-42b4-9088-1bb40527f5c8"
      },
      "execution_count": null,
      "outputs": [
        {
          "output_type": "stream",
          "name": "stdout",
          "text": [
            "{'name': 'ritika', 'age': 25, 'city': 'Bhubaneshwar'}\n"
          ]
        }
      ]
    },
    {
      "cell_type": "code",
      "source": [
        "# 22. Write a code to add a new key-value pair \"country\": \"USA\" to the dictionary {'name': 'John', 'age': 25}.\n",
        "dict={'name': 'John', 'age': 25}\n",
        "dict[\"country\"]='USA'\n",
        "print(dict)"
      ],
      "metadata": {
        "colab": {
          "base_uri": "https://localhost:8080/"
        },
        "id": "bvzQDboX_iAU",
        "outputId": "2e937529-5275-4d44-ad63-de4fd3856629"
      },
      "execution_count": null,
      "outputs": [
        {
          "output_type": "stream",
          "name": "stdout",
          "text": [
            "{'name': 'John', 'age': 25, 'country': 'USA'}\n"
          ]
        }
      ]
    },
    {
      "cell_type": "code",
      "source": [
        "# 23. Write a code to access the value associated with the key \"name\" in the dictionary {'name': 'Alice', 'age': 30}.\n",
        "dict={'name': 'Alice', 'age': 30}\n",
        "print(dict['name'])"
      ],
      "metadata": {
        "colab": {
          "base_uri": "https://localhost:8080/"
        },
        "id": "hn5G8MtQASSA",
        "outputId": "68f3282b-2696-4c5e-d04b-8cc9989f5a6f"
      },
      "execution_count": null,
      "outputs": [
        {
          "output_type": "stream",
          "name": "stdout",
          "text": [
            "Alice\n"
          ]
        }
      ]
    },
    {
      "cell_type": "code",
      "source": [
        "# 24. Write a code to remove the key \"age\" from the dictionary {'name': 'Bob', 'age': 22, 'city': 'New York'}.\n",
        "dict={'name': 'Bob', 'age': 22, 'city': 'New York'}\n",
        "dict.pop(\"age\")\n",
        "print(dict)"
      ],
      "metadata": {
        "colab": {
          "base_uri": "https://localhost:8080/"
        },
        "id": "qaqnlFHOAnpX",
        "outputId": "91fccabd-0026-49b7-87b0-c4dad092a475"
      },
      "execution_count": null,
      "outputs": [
        {
          "output_type": "stream",
          "name": "stdout",
          "text": [
            "{'name': 'Bob', 'city': 'New York'}\n"
          ]
        }
      ]
    },
    {
      "cell_type": "code",
      "source": [
        "#  25. Write a code to check if the key \"city\" exists in the dictionary {'name': 'Alice', 'city': 'Paris'}.\n",
        "dict={'name': 'Alice', 'city': 'Paris'}\n",
        "if 'city' in dict:\n",
        "  print('present')"
      ],
      "metadata": {
        "id": "ZTBW5ndrA5tn",
        "colab": {
          "base_uri": "https://localhost:8080/"
        },
        "outputId": "55fc03b2-cc68-4855-952a-38f8696031f4"
      },
      "execution_count": null,
      "outputs": [
        {
          "output_type": "stream",
          "name": "stdout",
          "text": [
            "present\n"
          ]
        }
      ]
    },
    {
      "cell_type": "code",
      "source": [
        "#  26. Write a code to create a list, a tuple, and a dictionary, and print them all.\n",
        "list=[1,2,'ritika',0.01]\n",
        "tuple=(1,2,'hi',0.4)\n",
        "dict={\"num\":1,\"divisor\":5.6, \"word\":\"don\"}\n",
        "print(list)\n",
        "print(tuple)\n",
        "print(dict)"
      ],
      "metadata": {
        "colab": {
          "base_uri": "https://localhost:8080/"
        },
        "id": "5y9pBm7QBU3z",
        "outputId": "1d742e02-44e6-4193-86b8-dc3ac18007ce"
      },
      "execution_count": null,
      "outputs": [
        {
          "output_type": "stream",
          "name": "stdout",
          "text": [
            "[1, 2, 'ritika', 0.01]\n",
            "(1, 2, 'hi', 0.4)\n",
            "{'num': 1, 'divisor': 5.6, 'word': 'don'}\n"
          ]
        }
      ]
    },
    {
      "cell_type": "code",
      "source": [
        "#  27. Write a code to create a list of 5 random numbers between 1 and 100, sort it in ascending order, and print the result (replaced).\n",
        "list=[1,56,78,23,45]\n",
        "list.sort()\n",
        "print(list)"
      ],
      "metadata": {
        "colab": {
          "base_uri": "https://localhost:8080/"
        },
        "id": "EfShcSvNCHe6",
        "outputId": "dcc89ed6-9eef-470d-fa39-e49a8cc5bb43"
      },
      "execution_count": null,
      "outputs": [
        {
          "output_type": "stream",
          "name": "stdout",
          "text": [
            "[1, 23, 45, 56, 78]\n"
          ]
        }
      ]
    },
    {
      "cell_type": "code",
      "source": [
        "# 28. Write a code to create a list with strings and print the element at the third index.\n",
        "fruits = ['apple', 'banana', 'mango', 'orange', 'grapes']\n",
        "print(fruits[3])\n"
      ],
      "metadata": {
        "id": "CSWEO57yCjCh",
        "colab": {
          "base_uri": "https://localhost:8080/"
        },
        "outputId": "7a9c2771-d0b4-4b9a-92f8-29bdb14c7e9d"
      },
      "execution_count": null,
      "outputs": [
        {
          "output_type": "stream",
          "name": "stdout",
          "text": [
            "orange\n"
          ]
        }
      ]
    },
    {
      "cell_type": "code",
      "source": [
        "# 29. Write a code to combine two dictionaries into one and print the result.\n",
        "dict1={\"name\":\"ritika\", \"city\":\"bbsr\", \"age\":25}\n",
        "dict2={\"employeeid\":1100408,\"hobby\":\"dancing\"}\n",
        "print(dict1|dict2)"
      ],
      "metadata": {
        "id": "BlxZ_oZoCrVH",
        "colab": {
          "base_uri": "https://localhost:8080/"
        },
        "outputId": "2376ff37-021e-4622-b944-586c17f16d3a"
      },
      "execution_count": null,
      "outputs": [
        {
          "output_type": "stream",
          "name": "stdout",
          "text": [
            "{'name': 'ritika', 'city': 'bbsr', 'age': 25, 'employeeid': 1100408, 'hobby': 'dancing'}\n"
          ]
        }
      ]
    },
    {
      "cell_type": "code",
      "source": [
        "# 30. Write a code to convert a list of strings into a set.\n",
        "dishes = ['kadoo ki chutney', 'fried octupus legs', 'baby blood', 'cockroach chutney']\n",
        "set1 = set(dishes)\n",
        "print(set1)"
      ],
      "metadata": {
        "colab": {
          "base_uri": "https://localhost:8080/"
        },
        "id": "lwdCnYH5Czqz",
        "outputId": "e97e9085-4eb9-4ee3-da84-489e00060d78"
      },
      "execution_count": null,
      "outputs": [
        {
          "output_type": "stream",
          "name": "stdout",
          "text": [
            "{'fried octupus legs', 'kadoo ki chutney', 'cockroach chutney', 'baby blood'}\n"
          ]
        }
      ]
    }
  ]
}